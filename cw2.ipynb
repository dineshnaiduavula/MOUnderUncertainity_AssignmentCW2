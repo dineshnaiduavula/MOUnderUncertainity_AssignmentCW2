{
  "nbformat": 4,
  "nbformat_minor": 0,
  "metadata": {
    "colab": {
      "provenance": [],
      "authorship_tag": "ABX9TyPtFXwjM7hKnjX/2PIsnN9Z",
      "include_colab_link": true
    },
    "kernelspec": {
      "name": "python3",
      "display_name": "Python 3"
    },
    "language_info": {
      "name": "python"
    }
  },
  "cells": [
    {
      "cell_type": "markdown",
      "metadata": {
        "id": "view-in-github",
        "colab_type": "text"
      },
      "source": [
        "<a href=\"https://colab.research.google.com/github/dineshnaiduavula/MOUnderUncertainity_AssignmentCW2/blob/main/cw2.ipynb\" target=\"_parent\"><img src=\"https://colab.research.google.com/assets/colab-badge.svg\" alt=\"Open In Colab\"/></a>"
      ]
    },
    {
      "cell_type": "code",
      "execution_count": 1,
      "metadata": {
        "colab": {
          "base_uri": "https://localhost:8080/",
          "height": 1000
        },
        "id": "BxRYCzieljWr",
        "outputId": "4edcdadf-6560-42bc-f379-bcfcde2184b5"
      },
      "outputs": [
        {
          "output_type": "stream",
          "name": "stderr",
          "text": [
            "/usr/local/lib/python3.11/dist-packages/keras/src/layers/core/embedding.py:90: UserWarning: Argument `input_length` is deprecated. Just remove it.\n",
            "  warnings.warn(\n"
          ]
        },
        {
          "output_type": "stream",
          "name": "stdout",
          "text": [
            "Epoch 1/5\n",
            "\u001b[1m80/80\u001b[0m \u001b[32m━━━━━━━━━━━━━━━━━━━━\u001b[0m\u001b[37m\u001b[0m \u001b[1m23s\u001b[0m 170ms/step - accuracy: 0.6897 - loss: 0.6324 - val_accuracy: 0.7063 - val_loss: 0.6055\n",
            "Epoch 2/5\n",
            "\u001b[1m80/80\u001b[0m \u001b[32m━━━━━━━━━━━━━━━━━━━━\u001b[0m\u001b[37m\u001b[0m \u001b[1m19s\u001b[0m 161ms/step - accuracy: 0.7210 - loss: 0.6028 - val_accuracy: 0.7063 - val_loss: 0.6071\n",
            "Epoch 3/5\n",
            "\u001b[1m80/80\u001b[0m \u001b[32m━━━━━━━━━━━━━━━━━━━━\u001b[0m\u001b[37m\u001b[0m \u001b[1m20s\u001b[0m 161ms/step - accuracy: 0.7237 - loss: 0.5945 - val_accuracy: 0.7063 - val_loss: 0.6056\n",
            "Epoch 4/5\n",
            "\u001b[1m80/80\u001b[0m \u001b[32m━━━━━━━━━━━━━━━━━━━━\u001b[0m\u001b[37m\u001b[0m \u001b[1m20s\u001b[0m 157ms/step - accuracy: 0.7267 - loss: 0.5924 - val_accuracy: 0.7063 - val_loss: 0.6070\n",
            "Epoch 5/5\n",
            "\u001b[1m80/80\u001b[0m \u001b[32m━━━━━━━━━━━━━━━━━━━━\u001b[0m\u001b[37m\u001b[0m \u001b[1m13s\u001b[0m 161ms/step - accuracy: 0.7174 - loss: 0.5988 - val_accuracy: 0.7063 - val_loss: 0.6071\n",
            "\u001b[1m25/25\u001b[0m \u001b[32m━━━━━━━━━━━━━━━━━━━━\u001b[0m\u001b[37m\u001b[0m \u001b[1m1s\u001b[0m 42ms/step\n",
            "\n",
            "Final Evaluation Report\n",
            "------------------------\n",
            "Accuracy : 0.74375\n",
            "Precision: 0.74375\n",
            "Recall   : 1.0\n",
            "F1 Score : 0.8530465949820788\n",
            "\n",
            "Classification Breakdown:\n",
            "              precision    recall  f1-score   support\n",
            "\n",
            " Not Harmful       0.00      0.00      0.00       205\n",
            "     Harmful       0.74      1.00      0.85       595\n",
            "\n",
            "    accuracy                           0.74       800\n",
            "   macro avg       0.37      0.50      0.43       800\n",
            "weighted avg       0.55      0.74      0.63       800\n",
            "\n"
          ]
        },
        {
          "output_type": "stream",
          "name": "stderr",
          "text": [
            "/usr/local/lib/python3.11/dist-packages/sklearn/metrics/_classification.py:1565: UndefinedMetricWarning: Precision is ill-defined and being set to 0.0 in labels with no predicted samples. Use `zero_division` parameter to control this behavior.\n",
            "  _warn_prf(average, modifier, f\"{metric.capitalize()} is\", len(result))\n",
            "/usr/local/lib/python3.11/dist-packages/sklearn/metrics/_classification.py:1565: UndefinedMetricWarning: Precision is ill-defined and being set to 0.0 in labels with no predicted samples. Use `zero_division` parameter to control this behavior.\n",
            "  _warn_prf(average, modifier, f\"{metric.capitalize()} is\", len(result))\n",
            "/usr/local/lib/python3.11/dist-packages/sklearn/metrics/_classification.py:1565: UndefinedMetricWarning: Precision is ill-defined and being set to 0.0 in labels with no predicted samples. Use `zero_division` parameter to control this behavior.\n",
            "  _warn_prf(average, modifier, f\"{metric.capitalize()} is\", len(result))\n"
          ]
        },
        {
          "output_type": "display_data",
          "data": {
            "text/plain": [
              "<Figure size 500x400 with 2 Axes>"
            ],
            "image/png": "[encoded data removed]"
          },
          "metadata": {}
        }
      ],
      "source": [
        "# Step 1: Import required packages\n",
        "import pandas as pd\n",
        "import numpy as np\n",
        "import tensorflow as tf\n",
        "from tensorflow.keras.preprocessing.text import Tokenizer\n",
        "from tensorflow.keras.preprocessing.sequence import pad_sequences\n",
        "from tensorflow.keras.models import Sequential\n",
        "from tensorflow.keras.layers import Embedding, LSTM, Dense, Dropout\n",
        "from sklearn.model_selection import train_test_split\n",
        "from sklearn.metrics import accuracy_score, precision_score, recall_score, f1_score, classification_report, confusion_matrix\n",
        "import matplotlib.pyplot as plt\n",
        "import seaborn as sns\n",
        "\n",
        "# Step 2: Load dataset from GitHub\n",
        "file_link = \"https://raw.githubusercontent.com/dineshnaiduavula/MOUnderUncertainity_AssignmentCW2/main/TBO_4k_train%20(1).xlsx\"\n",
        "df = pd.read_excel(file_link)\n",
        "\n",
        "# Step 3: Create binary label based on any harmful tag\n",
        "harmful_columns = [col for col in df.columns if \"Harmful\" in col]\n",
        "df[\"label\"] = df[harmful_columns].apply(lambda row: 1 if \"YES\" in row.values else 0, axis=1)\n",
        "\n",
        "# Step 4: Retain only useful columns and clean text\n",
        "df = df[[\"text\", \"label\"]].dropna()\n",
        "df[\"text\"] = df[\"text\"].str.lower()\n",
        "df[\"text\"] = df[\"text\"].str.replace(r\"http\\S+|www\\S+|@\\w+|[^a-zA-Z0-9\\s]\", \"\", regex=True)\n",
        "\n",
        "# Step 5: Tokenize and pad sequences\n",
        "vocab_limit = 10000\n",
        "max_length = 100\n",
        "tokenizer = Tokenizer(num_words=vocab_limit, oov_token=\"<OOV>\")\n",
        "tokenizer.fit_on_texts(df[\"text\"])\n",
        "text_sequences = tokenizer.texts_to_sequences(df[\"text\"])\n",
        "text_padded = pad_sequences(text_sequences, maxlen=max_length, padding=\"post\")\n",
        "\n",
        "# Step 6: Split data into training and testing sets\n",
        "X_train, X_test, y_train, y_test = train_test_split(text_padded, df[\"label\"], test_size=0.2, random_state=42)\n",
        "\n",
        "# Step 7: Build the LSTM model\n",
        "model = Sequential()\n",
        "model.add(Embedding(input_dim=vocab_limit, output_dim=100, input_length=max_length))\n",
        "model.add(LSTM(128))\n",
        "model.add(Dropout(0.5))\n",
        "model.add(Dense(64, activation=\"relu\"))\n",
        "model.add(Dense(1, activation=\"sigmoid\"))\n",
        "\n",
        "# Step 8: Compile the model\n",
        "model.compile(loss=\"binary_crossentropy\", optimizer=\"adam\", metrics=[\"accuracy\"])\n",
        "\n",
        "# Step 9: Train the model\n",
        "model.fit(X_train, y_train, epochs=5, batch_size=32, validation_split=0.2)\n",
        "\n",
        "# Step 10: Make predictions\n",
        "preds = (model.predict(X_test) > 0.5).astype(\"int32\")\n",
        "\n",
        "# Step 11: Print evaluation scores\n",
        "acc_val = accuracy_score(y_test, preds)\n",
        "prec_val = precision_score(y_test, preds)\n",
        "rec_val = recall_score(y_test, preds)\n",
        "f1_val = f1_score(y_test, preds)\n",
        "\n",
        "print(\"\\nFinal Evaluation Report\")\n",
        "print(\"------------------------\")\n",
        "print(\"Accuracy :\", acc_val)\n",
        "print(\"Precision:\", prec_val)\n",
        "print(\"Recall   :\", rec_val)\n",
        "print(\"F1 Score :\", f1_val)\n",
        "\n",
        "# Step 12: Detailed classification report\n",
        "print(\"\\nClassification Breakdown:\")\n",
        "print(classification_report(y_test, preds, target_names=[\"Not Harmful\", \"Harmful\"]))\n",
        "\n",
        "# Step 13: Plot confusion matrix\n",
        "conf_matrix = confusion_matrix(y_test, preds)\n",
        "plt.figure(figsize=(5, 4))\n",
        "sns.heatmap(conf_matrix, annot=True, cmap=\"Blues\", fmt=\"d\", xticklabels=[\"Not Harmful\", \"Harmful\"], yticklabels=[\"Not Harmful\", \"Harmful\"])\n",
        "plt.title(\"Confusion Matrix\")\n",
        "plt.xlabel(\"Predicted\")\n",
        "plt.ylabel(\"Actual\")\n",
        "plt.tight_layout()\n",
        "plt.show()\n"
      ]
    }
  ]
}