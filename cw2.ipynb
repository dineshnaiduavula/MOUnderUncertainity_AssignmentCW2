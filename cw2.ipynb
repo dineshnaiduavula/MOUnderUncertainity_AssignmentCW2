{
  "nbformat": 4,
  "nbformat_minor": 0,
  "metadata": {
    "colab": {
      "provenance": [],
      "authorship_tag": "ABX9TyNYO878Wm8/NXf28lRXfDRJ",
      "include_colab_link": true
    },
    "kernelspec": {
      "name": "python3",
      "display_name": "Python 3"
    },
    "language_info": {
      "name": "python"
    }
  },
  "cells": [
    {
      "cell_type": "markdown",
      "metadata": {
        "id": "view-in-github",
        "colab_type": "text"
      },
      "source": [
        "<a href=\"https://colab.research.google.com/github/dineshnaiduavula/MOUnderUncertainity_AssignmentCW2/blob/main/cw2.ipynb\" target=\"_parent\"><img src=\"https://colab.research.google.com/assets/colab-badge.svg\" alt=\"Open In Colab\"/></a>"
      ]
    },
    {
      "cell_type": "code",
      "execution_count": 1,
      "metadata": {
        "colab": {
          "base_uri": "https://localhost:8080/",
          "height": 910
        },
        "id": "BxRYCzieljWr",
        "outputId": "e7bc518e-7c9c-4d05-ffb6-39760a472627"
      },
      "outputs": [
        {
          "output_type": "stream",
          "name": "stdout",
          "text": [
            "Epoch 1/5\n",
            "\u001b[1m80/80\u001b[0m \u001b[32m━━━━━━━━━━━━━━━━━━━━\u001b[0m\u001b[37m\u001b[0m \u001b[1m20s\u001b[0m 176ms/step - accuracy: 0.7200 - loss: 0.6109 - val_accuracy: 0.7063 - val_loss: 0.6143\n",
            "Epoch 2/5\n",
            "\u001b[1m80/80\u001b[0m \u001b[32m━━━━━━━━━━━━━━━━━━━━\u001b[0m\u001b[37m\u001b[0m \u001b[1m13s\u001b[0m 166ms/step - accuracy: 0.7293 - loss: 0.5979 - val_accuracy: 0.7063 - val_loss: 0.6061\n",
            "Epoch 3/5\n",
            "\u001b[1m80/80\u001b[0m \u001b[32m━━━━━━━━━━━━━━━━━━━━\u001b[0m\u001b[37m\u001b[0m \u001b[1m20s\u001b[0m 162ms/step - accuracy: 0.7106 - loss: 0.6041 - val_accuracy: 0.7063 - val_loss: 0.6083\n",
            "Epoch 4/5\n",
            "\u001b[1m80/80\u001b[0m \u001b[32m━━━━━━━━━━━━━━━━━━━━\u001b[0m\u001b[37m\u001b[0m \u001b[1m13s\u001b[0m 160ms/step - accuracy: 0.7066 - loss: 0.6073 - val_accuracy: 0.7063 - val_loss: 0.6057\n",
            "Epoch 5/5\n",
            "\u001b[1m80/80\u001b[0m \u001b[32m━━━━━━━━━━━━━━━━━━━━\u001b[0m\u001b[37m\u001b[0m \u001b[1m22s\u001b[0m 183ms/step - accuracy: 0.7113 - loss: 0.6016 - val_accuracy: 0.7063 - val_loss: 0.6071\n",
            "\u001b[1m25/25\u001b[0m \u001b[32m━━━━━━━━━━━━━━━━━━━━\u001b[0m\u001b[37m\u001b[0m \u001b[1m1s\u001b[0m 46ms/step\n",
            "\n",
            "Model Performance Summary\n",
            "--------------------------\n",
            "Accuracy : 0.74375\n",
            "Precision: 0.74375\n",
            "Recall   : 1.0\n",
            "F1 Score : 0.8530465949820788\n",
            "\n",
            "Detailed Classification Report:\n",
            "              precision    recall  f1-score   support\n",
            "\n",
            " Not Harmful       1.00      0.00      0.00       205\n",
            "     Harmful       0.74      1.00      0.85       595\n",
            "\n",
            "    accuracy                           0.74       800\n",
            "   macro avg       0.87      0.50      0.43       800\n",
            "weighted avg       0.81      0.74      0.63       800\n",
            "\n"
          ]
        },
        {
          "output_type": "display_data",
          "data": {
            "text/plain": [
              "<Figure size 500x400 with 2 Axes>"
            ],
            "image/png": "[encoded data removed]"
          },
          "metadata": {}
        }
      ],
      "source": [
        "# Step 1: Import all necessary libraries\n",
        "import pandas as pd\n",
        "import numpy as np\n",
        "import tensorflow as tf\n",
        "from tensorflow.keras.models import Sequential\n",
        "from tensorflow.keras.layers import Embedding, LSTM, Dense, Dropout\n",
        "from tensorflow.keras.preprocessing.text import Tokenizer\n",
        "from tensorflow.keras.preprocessing.sequence import pad_sequences\n",
        "from sklearn.model_selection import train_test_split\n",
        "from sklearn.metrics import (\n",
        "    accuracy_score, precision_score, recall_score,\n",
        "    f1_score, classification_report, confusion_matrix\n",
        ")\n",
        "import seaborn as sns\n",
        "import matplotlib.pyplot as plt\n",
        "\n",
        "# Step 2: Load the dataset from GitHub\n",
        "dataset_url = \"https://raw.githubusercontent.com/dineshnaiduavula/MOUnderUncertainity_AssignmentCW2/main/TBO_4k_train%20(1).xlsx\"\n",
        "dataframe = pd.read_excel(dataset_url)\n",
        "\n",
        "# Step 3: Create a new column indicating whether any of the tags are harmful\n",
        "harmful_tags = [col for col in dataframe.columns if \"Harmful\" in col]\n",
        "dataframe[\"is_harmful\"] = dataframe[harmful_tags].apply(lambda row: 1 if \"YES\" in row.values else 0, axis=1)\n",
        "\n",
        "# Step 4: Select only useful columns and clean the text\n",
        "dataframe = dataframe[[\"text\", \"is_harmful\"]].dropna()\n",
        "dataframe[\"text\"] = dataframe[\"text\"].str.lower()\n",
        "dataframe[\"text\"] = dataframe[\"text\"].str.replace(r\"http\\S+|www\\S+|@\\w+|[^a-zA-Z0-9\\s]\", \"\", regex=True)\n",
        "\n",
        "# Step 5: Tokenize the text and pad the sequences\n",
        "text_tokenizer = Tokenizer(num_words=10000, oov_token=\"<OOV>\")\n",
        "text_tokenizer.fit_on_texts(dataframe[\"text\"])\n",
        "text_sequences = text_tokenizer.texts_to_sequences(dataframe[\"text\"])\n",
        "text_padded = pad_sequences(text_sequences, padding=\"post\", maxlen=100)\n",
        "\n",
        "# Step 6: Split the data into training and testing sets\n",
        "X_train, X_test, y_train, y_test = train_test_split(text_padded, dataframe[\"is_harmful\"], test_size=0.2, random_state=42)\n",
        "\n",
        "# Step 7: Define the LSTM model structure\n",
        "harm_detection_model = Sequential([\n",
        "    Embedding(input_dim=10000, output_dim=100),\n",
        "    LSTM(128),\n",
        "    Dropout(0.5),\n",
        "    Dense(64, activation=\"relu\"),\n",
        "    Dense(1, activation=\"sigmoid\")\n",
        "])\n",
        "\n",
        "# Step 8: Compile the model\n",
        "harm_detection_model.compile(loss=\"binary_crossentropy\", optimizer=\"adam\", metrics=[\"accuracy\"])\n",
        "\n",
        "# Step 9: Train the model\n",
        "harm_detection_model.fit(X_train, y_train, epochs=5, batch_size=32, validation_split=0.2)\n",
        "\n",
        "# Step 10: Make predictions on the test set\n",
        "predicted_labels = (harm_detection_model.predict(X_test) > 0.5).astype(\"int32\")\n",
        "\n",
        "# Step 11: Evaluate the model using standard metrics\n",
        "accuracy = accuracy_score(y_test, predicted_labels)\n",
        "precision = precision_score(y_test, predicted_labels, zero_division=1)\n",
        "recall = recall_score(y_test, predicted_labels)\n",
        "f1 = f1_score(y_test, predicted_labels)\n",
        "\n",
        "print(\"\\nModel Performance Summary\")\n",
        "print(\"--------------------------\")\n",
        "print(\"Accuracy :\", accuracy)\n",
        "print(\"Precision:\", precision)\n",
        "print(\"Recall   :\", recall)\n",
        "print(\"F1 Score :\", f1)\n",
        "\n",
        "# Step 12: Detailed classification report\n",
        "print(\"\\nDetailed Classification Report:\")\n",
        "print(classification_report(y_test, predicted_labels, target_names=[\"Not Harmful\", \"Harmful\"], zero_division=1))\n",
        "\n",
        "# Step 13: Plot confusion matrix\n",
        "conf_matrix = confusion_matrix(y_test, predicted_labels)\n",
        "plt.figure(figsize=(5, 4))\n",
        "sns.heatmap(conf_matrix, annot=True, fmt=\"d\", cmap=\"Blues\", xticklabels=[\"Not Harmful\", \"Harmful\"], yticklabels=[\"Not Harmful\", \"Harmful\"])\n",
        "plt.title(\"Confusion Matrix\")\n",
        "plt.xlabel(\"Predicted Label\")\n",
        "plt.ylabel(\"True Label\")\n",
        "plt.tight_layout()\n",
        "plt.show()\n"
      ]
    }
  ]
}